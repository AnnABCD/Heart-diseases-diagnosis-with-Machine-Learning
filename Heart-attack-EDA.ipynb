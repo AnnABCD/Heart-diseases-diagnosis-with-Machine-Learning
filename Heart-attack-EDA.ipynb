{
 "cells": [
  {
   "cell_type": "code",
   "execution_count": null,
   "id": "31390629",
   "metadata": {},
   "outputs": [],
   "source": [
    "import numpy as np\n",
    "import pandas as pd\n",
    "import matplotlib.pyplot as plt\n",
    "\n",
    "from sklearn.preprocessing import StandardScaler, LabelEncoder\n",
    "from sklearn.model_selection import train_test_split\n",
    "\n",
    "import seaborn as sns "
   ]
  },
  {
   "cell_type": "markdown",
   "id": "ce8b37ed",
   "metadata": {},
   "source": [
    "# PART 1 : DATA PRE-PROCESSING "
   ]
  },
  {
   "cell_type": "markdown",
   "id": "36eb8aa6",
   "metadata": {},
   "source": [
    "## 1.1. Check the data"
   ]
  },
  {
   "cell_type": "code",
   "execution_count": null,
   "id": "69f1a09f",
   "metadata": {},
   "outputs": [],
   "source": [
    "# Import data\n",
    "data = pd.read_csv('heart.csv')\n",
    "\n",
    "# Visualize data\n",
    "pd.set_option('display.max_columns', None)\n",
    "data.head(10)"
   ]
  },
  {
   "cell_type": "code",
   "execution_count": null,
   "id": "bd3834c2",
   "metadata": {},
   "outputs": [],
   "source": [
    "data.shape"
   ]
  },
  {
   "cell_type": "code",
   "execution_count": null,
   "id": "c1e81fd7",
   "metadata": {},
   "outputs": [],
   "source": [
    "data.info()"
   ]
  },
  {
   "cell_type": "code",
   "execution_count": null,
   "id": "3c2237f6",
   "metadata": {},
   "outputs": [],
   "source": [
    "data.describe()"
   ]
  },
  {
   "cell_type": "code",
   "execution_count": null,
   "id": "268d0402",
   "metadata": {},
   "outputs": [],
   "source": [
    "data.isnull().sum()"
   ]
  },
  {
   "cell_type": "code",
   "execution_count": null,
   "id": "6eed798f",
   "metadata": {},
   "outputs": [],
   "source": [
    "data.isna().sum()"
   ]
  },
  {
   "cell_type": "code",
   "execution_count": null,
   "id": "e5feb2bd",
   "metadata": {},
   "outputs": [],
   "source": [
    "column_names = data.columns \n",
    "for i in column_names:\n",
    "    print('{} is unique: {}'.format(i, data[i].is_unique))"
   ]
  },
  {
   "cell_type": "markdown",
   "id": "7596d69f",
   "metadata": {},
   "source": [
    "## 1.2. Data preprocessing : standardization and encoding"
   ]
  },
  {
   "cell_type": "code",
   "execution_count": null,
   "id": "dbe298de",
   "metadata": {},
   "outputs": [],
   "source": [
    "categorical_features = ['sex','exng','caa','cp','fbs','restecg','slp','thall']\n",
    "quantitative_features = ['age','trtbps','chol','thalachh','oldpeak']\n",
    "features = categorical_features + quantitative_features\n",
    "\n",
    "\n",
    "# Pre-processing function : clean data, standardization and encode categorical data\n",
    "def datapreprocessing(data, categorical_features, quantitative_features):\n",
    "               \n",
    "    # Feature scaling\n",
    "    for i in quantitative_features :\n",
    "        scaler = StandardScaler()\n",
    "        data[i] = scaler.fit_transform(data[[i]])\n",
    "            \n",
    "    # Encoding categorical features    \n",
    "    for i in categorical_features : \n",
    "        labelencoder=LabelEncoder()\n",
    "        data[i]=labelencoder.fit_transform(data[i])   \n",
    "    \n",
    "    Y = data.loc[:,'output']\n",
    "    X = data.drop(['output'],axis=1) \n",
    "    \n",
    "    return(X,Y)\n",
    "\n",
    "\n",
    "dataset = data.copy()\n",
    "X, Y = datapreprocessing(dataset, categorical_features, quantitative_features) "
   ]
  },
  {
   "cell_type": "markdown",
   "id": "116486ca",
   "metadata": {},
   "source": [
    "# PART 2 : EXPLORATORY DATA ANALYSIS"
   ]
  },
  {
   "cell_type": "markdown",
   "id": "68cf3ae8",
   "metadata": {},
   "source": [
    "### Data distribution"
   ]
  },
  {
   "cell_type": "code",
   "execution_count": null,
   "id": "64b91980",
   "metadata": {},
   "outputs": [],
   "source": [
    "#Output\n",
    "sns.countplot(x=Y)\n",
    "plt.title('Risks of heart disease (M=1 , B=0)')\n",
    "    \n",
    "#Age\n",
    "sns.countplot(x=X[\"age\"]);\n",
    "plt.title(\"Age tdistribution\", fontsize=20)\n",
    "plt.xlabel(\"AGE\")\n",
    "    \n",
    "#Chest pain\n",
    "chest_pain_count = X[\"cp\"].value_counts().reset_index()\n",
    "sns.barplot(x=chest_pain_count[\"index\"], y=chest_pain_count[\"cp\"])\n",
    "plt.title(\"TYPE OF CHEST PAIN WITH NUMBER OF PATIENTS\", fontsize=20)\n",
    "plt.xlabel(\"CHEST PAIN TYPE\")\n",
    "    \n",
    "sns.displot(X[\"trtbps\"])   \n",
    "plt.title(\"DISTRIBUTION OF BLOOD PRESSURE AMONG PATIENTS\",fontsize=18)\n",
    "plt.xlabel(\"BLOOD PRESSURE\")\n",
    "    \n",
    "sns.set_color_codes()\n",
    "sns.displot(X[\"chol\"], color=\"y\")\n",
    "plt.title(\"DISTRIBUTION OF CHOLESTROL LEVEL AMONG PATIENTS\", fontsize=18)\n",
    "plt.xlabel(\"CHOLESTROL LEVEL\")\n",
    "    \n",
    "sns.displot(X[\"thalachh\"], color=\"blue\")\n",
    "plt.title(\"DISTRIBUTION OF HEART RATE AMONG PATIENTS\", fontsize=18)\n",
    "plt.xlabel(\"HEART RATE\")"
   ]
  },
  {
   "cell_type": "markdown",
   "id": "79081608",
   "metadata": {},
   "source": [
    "### Bivariate analysis"
   ]
  },
  {
   "cell_type": "code",
   "execution_count": null,
   "id": "628b3f25",
   "metadata": {},
   "outputs": [],
   "source": [
    "#Categorical data\n",
    "fig, axes = plt.subplots(nrows=4, ncols=2, figsize=(8,10))\n",
    "axes = axes.ravel()\n",
    "for idx,ax in enumerate(axes):\n",
    "    ax.figure\n",
    "    sns.catplot(ax=ax, x=categorical_features[idx], data=dataset, kind=\"count\", hue=\"output\")\n",
    "    ax.set_title(categorical_features[idx])"
   ]
  },
  {
   "cell_type": "code",
   "execution_count": null,
   "id": "c7eb8f50",
   "metadata": {},
   "outputs": [],
   "source": [
    "# split dataframe into two based on diagnosis\n",
    "dataM=X[Y==1]\n",
    "dataB=X[Y==0]\n",
    "\n",
    "# Quantitative data\n",
    "fig, axes = plt.subplots(nrows=2, ncols=2, figsize=(10,8))\n",
    "axes = axes.ravel()\n",
    "for idx,ax in enumerate(axes):\n",
    "    feature=quantitative_features[idx]\n",
    "    ax.figure\n",
    "    binwidth= (max(X[feature]) - min(X[feature]))/50\n",
    "    ax.hist([dataM[feature],dataB[feature]], bins=np.arange(min(X[feature]), max(X[feature]) + binwidth, binwidth) , alpha=0.5,stacked=True, label=['M','B'],color=['r','g'])\n",
    "    ax.legend(loc='upper right')\n",
    "    ax.set_title(feature)"
   ]
  },
  {
   "cell_type": "markdown",
   "id": "ec52ddf9",
   "metadata": {},
   "source": [
    "# PART 3 : FEATURES IMPORTANCE"
   ]
  },
  {
   "cell_type": "code",
   "execution_count": null,
   "id": "bae50641",
   "metadata": {},
   "outputs": [],
   "source": [
    "# Splitting traing dataset for validation testing (80% for training and 20% for validation)\n",
    "X_train, X_test, Y_train, Y_test = train_test_split(X, Y, test_size=0.20, random_state=1, shuffle=True)\n",
    "\n",
    "\n",
    "from sklearn.ensemble import ExtraTreesClassifier\n",
    "\n",
    "def feature_importance_plotting(x_train, y_train) :\n",
    "    # Build a forest and compute the impurity-based feature importances\n",
    "    model = ExtraTreesClassifier(n_estimators=10,random_state=0)\n",
    "    model.fit(x_train, y_train)\n",
    "    importances = model.feature_importances_\n",
    "    std = np.std([tree.feature_importances_ for tree in model.estimators_], axis=0)\n",
    "    indices = np.argsort(importances)[::-1]\n",
    "    # Print the feature ranking\n",
    "    print(\"Feature ranking:\")\n",
    "    for f in range(x_train.shape[1]):\n",
    "        print(\"%d. feature %d (%f)\" % (f + 1, indices[f], importances[indices[f]]))\n",
    "    # Plot the impurity-based feature importances of the forest\n",
    "    plt.figure(1, figsize=(14, 13))\n",
    "    plt.title(\"Feature importances\")\n",
    "    plt.bar(range(x_train.shape[1]), importances[indices], color=\"r\", yerr=std[indices], align=\"center\")\n",
    "    plt.xticks(range(x_train.shape[1]), x_train.columns[indices],rotation=90)\n",
    "    plt.xlim([-1, x_train.shape[1]])\n",
    "\n",
    "\n",
    "feature_importance_plotting(X_train, Y_train)"
   ]
  }
 ],
 "metadata": {
  "kernelspec": {
   "display_name": "Python 3",
   "language": "python",
   "name": "python3"
  },
  "language_info": {
   "codemirror_mode": {
    "name": "ipython",
    "version": 3
   },
   "file_extension": ".py",
   "mimetype": "text/x-python",
   "name": "python",
   "nbconvert_exporter": "python",
   "pygments_lexer": "ipython3",
   "version": "3.8.8"
  }
 },
 "nbformat": 4,
 "nbformat_minor": 5
}
